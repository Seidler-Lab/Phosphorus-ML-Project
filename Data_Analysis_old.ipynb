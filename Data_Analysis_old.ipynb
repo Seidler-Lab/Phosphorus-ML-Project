{
 "cells": [
  {
   "cell_type": "code",
   "execution_count": 1,
   "metadata": {},
   "outputs": [],
   "source": [
    "# Author: Samantha Tetef\n",
    "# Created: 12.11.20\n",
    "# Title: Dat_to_Spectra"
   ]
  },
  {
   "cell_type": "code",
   "execution_count": 2,
   "metadata": {},
   "outputs": [],
   "source": [
    "import warnings\n",
    "warnings.filterwarnings(\"ignore\")\n",
    "\n",
    "import utils as u\n",
    "from importlib import reload\n",
    "# to reload utils, run:\n",
    "# u = reload(u)\n",
    "\n",
    "import os\n",
    "import numpy as np\n",
    "\n",
    "import pandas as pd\n",
    "import matplotlib.pyplot as plt\n",
    "from matplotlib.ticker import MultipleLocator, FormatStrFormatter, AutoMinorLocator\n",
    "\n",
    "from sklearn.decomposition import PCA\n",
    "from sklearn.manifold import TSNE\n",
    "\n",
    "warnings.filterwarnings(\"ignore\")"
   ]
  },
  {
   "cell_type": "code",
   "execution_count": 3,
   "metadata": {},
   "outputs": [
    {
     "data": {
      "application/javascript": [
       " IPython.OutputArea.prototype._should_scroll = function(lines) {\n",
       "   return false;\n",
       " }\n"
      ],
      "text/plain": [
       "<IPython.core.display.Javascript object>"
      ]
     },
     "metadata": {},
     "output_type": "display_data"
    }
   ],
   "source": [
    "%%javascript\n",
    " IPython.OutputArea.prototype._should_scroll = function(lines) {\n",
    "   return false;\n",
    " }"
   ]
  },
  {
   "cell_type": "code",
   "execution_count": 4,
   "metadata": {},
   "outputs": [
    {
     "ename": "AttributeError",
     "evalue": "'numpy.ndarray' object has no attribute 'glob'",
     "output_type": "error",
     "traceback": [
      "\u001b[0;31m---------------------------------------------------------------------------\u001b[0m",
      "\u001b[0;31mAttributeError\u001b[0m                            Traceback (most recent call last)",
      "\u001b[0;32m<ipython-input-4-7da895f07d2b>\u001b[0m in \u001b[0;36m<module>\u001b[0;34m\u001b[0m\n\u001b[1;32m      5\u001b[0m \u001b[0mCIDS\u001b[0m \u001b[0;34m=\u001b[0m \u001b[0mnp\u001b[0m\u001b[0;34m.\u001b[0m\u001b[0marray\u001b[0m\u001b[0;34m(\u001b[0m\u001b[0;34m[\u001b[0m\u001b[0mint\u001b[0m\u001b[0;34m(\u001b[0m\u001b[0mf\u001b[0m\u001b[0;34m.\u001b[0m\u001b[0mreplace\u001b[0m\u001b[0;34m(\u001b[0m\u001b[0;34m'_xes.dat'\u001b[0m\u001b[0;34m,\u001b[0m \u001b[0;34m''\u001b[0m\u001b[0;34m)\u001b[0m\u001b[0;34m)\u001b[0m \u001b[0;32mfor\u001b[0m \u001b[0mf\u001b[0m \u001b[0;32min\u001b[0m \u001b[0mos\u001b[0m\u001b[0;34m.\u001b[0m\u001b[0mlistdir\u001b[0m\u001b[0;34m(\u001b[0m\u001b[0mCIDdir\u001b[0m\u001b[0;34m)\u001b[0m \u001b[0;32mif\u001b[0m \u001b[0mf\u001b[0m\u001b[0;34m.\u001b[0m\u001b[0mendswith\u001b[0m\u001b[0;34m(\u001b[0m\u001b[0;34m'_xes.dat'\u001b[0m\u001b[0;34m)\u001b[0m\u001b[0;34m]\u001b[0m\u001b[0;34m)\u001b[0m\u001b[0;34m\u001b[0m\u001b[0;34m\u001b[0m\u001b[0m\n\u001b[1;32m      6\u001b[0m \u001b[0;34m\u001b[0m\u001b[0m\n\u001b[0;32m----> 7\u001b[0;31m \u001b[0mXES_DATA\u001b[0m \u001b[0;34m=\u001b[0m \u001b[0mu\u001b[0m\u001b[0;34m.\u001b[0m\u001b[0mget_Data\u001b[0m\u001b[0;34m(\u001b[0m\u001b[0mCIDS\u001b[0m\u001b[0;34m,\u001b[0m \u001b[0mmode\u001b[0m\u001b[0;34m=\u001b[0m\u001b[0;34m'xes'\u001b[0m\u001b[0;34m)\u001b[0m\u001b[0;34m\u001b[0m\u001b[0;34m\u001b[0m\u001b[0m\n\u001b[0m\u001b[1;32m      8\u001b[0m \u001b[0mXANES_DATA\u001b[0m \u001b[0;34m=\u001b[0m \u001b[0mu\u001b[0m\u001b[0;34m.\u001b[0m\u001b[0mget_Data\u001b[0m\u001b[0;34m(\u001b[0m\u001b[0mCIDS\u001b[0m\u001b[0;34m,\u001b[0m \u001b[0mmode\u001b[0m\u001b[0;34m=\u001b[0m\u001b[0;34m'xanes'\u001b[0m\u001b[0;34m)\u001b[0m\u001b[0;34m\u001b[0m\u001b[0;34m\u001b[0m\u001b[0m\n",
      "\u001b[0;32m~/Documents/Research/mlmol/Phosphorus-ML-Project/utils.py\u001b[0m in \u001b[0;36mget_Data\u001b[0;34m(cidlistdir, mode)\u001b[0m\n\u001b[1;32m     23\u001b[0m     \u001b[0mData\u001b[0m \u001b[0;34m=\u001b[0m \u001b[0;34m[\u001b[0m\u001b[0;34m]\u001b[0m\u001b[0;34m\u001b[0m\u001b[0;34m\u001b[0m\u001b[0m\n\u001b[1;32m     24\u001b[0m     \u001b[0mcounter\u001b[0m \u001b[0;34m=\u001b[0m \u001b[0;36m0\u001b[0m\u001b[0;34m\u001b[0m\u001b[0;34m\u001b[0m\u001b[0m\n\u001b[0;32m---> 25\u001b[0;31m     \u001b[0;32mfor\u001b[0m \u001b[0mtypelist\u001b[0m \u001b[0;32min\u001b[0m \u001b[0mcidlistdir\u001b[0m\u001b[0;34m.\u001b[0m\u001b[0mglob\u001b[0m\u001b[0;34m(\u001b[0m\u001b[0;34m'*.list'\u001b[0m\u001b[0;34m)\u001b[0m\u001b[0;34m:\u001b[0m\u001b[0;34m\u001b[0m\u001b[0;34m\u001b[0m\u001b[0m\n\u001b[0m\u001b[1;32m     26\u001b[0m         \u001b[0;32mwith\u001b[0m \u001b[0mopen\u001b[0m\u001b[0;34m(\u001b[0m\u001b[0mtypelist\u001b[0m\u001b[0;34m)\u001b[0m \u001b[0;32mas\u001b[0m \u001b[0mf\u001b[0m\u001b[0;34m:\u001b[0m\u001b[0;34m\u001b[0m\u001b[0;34m\u001b[0m\u001b[0m\n\u001b[1;32m     27\u001b[0m             \u001b[0mcompound_list\u001b[0m \u001b[0;34m=\u001b[0m \u001b[0;34m[\u001b[0m\u001b[0mint\u001b[0m\u001b[0;34m(\u001b[0m\u001b[0mcid\u001b[0m\u001b[0;34m)\u001b[0m \u001b[0;32mfor\u001b[0m \u001b[0mcid\u001b[0m \u001b[0;32min\u001b[0m \u001b[0mf\u001b[0m\u001b[0;34m.\u001b[0m\u001b[0mread\u001b[0m\u001b[0;34m(\u001b[0m\u001b[0;34m)\u001b[0m\u001b[0;34m.\u001b[0m\u001b[0msplitlines\u001b[0m\u001b[0;34m(\u001b[0m\u001b[0;34m)\u001b[0m\u001b[0;34m]\u001b[0m\u001b[0;34m\u001b[0m\u001b[0;34m\u001b[0m\u001b[0m\n",
      "\u001b[0;31mAttributeError\u001b[0m: 'numpy.ndarray' object has no attribute 'glob'"
     ]
    }
   ],
   "source": [
    "ROOTDIR = os.getcwd().replace('\\\\', '/')\n",
    "\n",
    "CIDdir = f\"{ROOTDIR}/ProcessedData/\"\n",
    "\n",
    "CIDS = np.array([int(f.replace('_xes.dat', '')) for f in os.listdir(CIDdir) if f.endswith('_xes.dat')])\n",
    "\n",
    "XES_DATA = u.get_Data(CIDS, mode='xes')\n",
    "XANES_DATA = u.get_Data(CIDS, mode='xanes')"
   ]
  },
  {
   "cell_type": "markdown",
   "metadata": {},
   "source": [
    "list of CIDS that have heavy atoms\n",
    "- 100427\n",
    "- 101349\n",
    "- 107980\n",
    "- 1137\n",
    "- 114861\n",
    "- 119105\n",
    "- 11949961\n",
    "- 11987823\n",
    "- 11988266"
   ]
  },
  {
   "cell_type": "code",
   "execution_count": null,
   "metadata": {},
   "outputs": [],
   "source": [
    "xes = np.array(u.get_Property(XES_DATA, 'Spectra'))\n",
    "XESenergy = xes[0,0,:]\n",
    "XES = xes[:,1,:]\n",
    "\n",
    "XES_SCALING = np.max(XES)\n",
    "XES = XES / XES_SCALING"
   ]
  },
  {
   "cell_type": "code",
   "execution_count": null,
   "metadata": {},
   "outputs": [],
   "source": [
    "xanes = np.array(u.get_Property(XANES_DATA, 'Spectra'))\n",
    "XANESenergy = xanes[0,0,:]\n",
    "XANES = xanes[:,1,:]\n",
    "\n",
    "XANES_SCALING = np.max(XANES)\n",
    "XANES = XANES / XANES_SCALING"
   ]
  },
  {
   "cell_type": "markdown",
   "metadata": {},
   "source": [
    "# The Dataset"
   ]
  },
  {
   "cell_type": "code",
   "execution_count": null,
   "metadata": {},
   "outputs": [],
   "source": [
    "def esnip(trans, spectra, mode='xes', emin=0):\n",
    "    x, y = trans\n",
    "    \n",
    "    if mode == 'xes':\n",
    "        for i, e in enumerate(x):\n",
    "            if e >= emin:\n",
    "                break\n",
    "        x = x[i:]\n",
    "        y = y[i:]\n",
    "    \n",
    "        if x[-1] < 0:\n",
    "            return x[:-1] - 19, y[:-1]\n",
    "        x = x - 19\n",
    "        y = y/np.max(spectra)\n",
    "\n",
    "    elif mode == 'xanes':\n",
    "        x = x + 50\n",
    "        whiteline = XANESenergy[np.argmax(spectra)]\n",
    "        maxE = whiteline + 20\n",
    "        bool_arr = x < maxE\n",
    "        x = x[bool_arr]\n",
    "        y = y[bool_arr]\n",
    "    \n",
    "    return x, y"
   ]
  },
  {
   "cell_type": "code",
   "execution_count": null,
   "metadata": {},
   "outputs": [],
   "source": [
    "exp_cids = [7540, 31215, 204482, 7881, 6535, 75806] # rip 13138\n",
    "exp_cids = [31215, 204482, 7881, 6535]\n",
    "exp_cids = [101342292, 100921]\n",
    "for cid in exp_cids:\n",
    "    i = np.where(CIDS==cid)[0][0]\n",
    "    trans = XANES_DATA[i]['Transitions']\n",
    "    trans = esnip(trans, XANES[i], mode='xanes')\n",
    "    u.plot_spectrum_and_trans([XANESenergy, XANES[i]], trans, f'{CIDS[i]}', label='XANES')"
   ]
  },
  {
   "cell_type": "code",
   "execution_count": null,
   "metadata": {
    "scrolled": true
   },
   "outputs": [],
   "source": [
    "mycids = [11776, 13097, 8289]\n",
    "for cid in mycids:\n",
    "    \n",
    "    i = np.where(CIDS==cid)[0][0]\n",
    "    \n",
    "#     trans = XES_DATA[i]['Transitions']\n",
    "#     trans = esnip(trans, XES[i], mode='xes', emin=2100)\n",
    "#     u.plot_spectrum_and_trans([XESenergy, XES[i]], trans, f'{CIDS[i]}', label='VtC-XES')\n",
    "    \n",
    "    trans = XANES_DATA[i]['Transitions']\n",
    "    trans = esnip(trans, XANES[i], mode='xanes')\n",
    "    u.plot_spectrum_and_trans([XANESenergy, XANES[i]], trans, f'{CIDS[i]}', label='XANES')\n",
    "\n",
    "#     u.plot_spectrum([XESenergy, XES[i]], f'{CIDS[i]}', label='VtC-XES')\n",
    "#     u.plot_spectrum([XANESenergy, XANES[i]], f'{CIDS[i]}', label='XANES')"
   ]
  },
  {
   "cell_type": "code",
   "execution_count": null,
   "metadata": {},
   "outputs": [],
   "source": [
    "df1 = pd.read_csv('Ph3P.csv')\n",
    "df2 = pd.read_csv('Ph3PO.csv')\n",
    "df3 = pd.read_csv('PhO3PO.csv')"
   ]
  },
  {
   "cell_type": "code",
   "execution_count": null,
   "metadata": {},
   "outputs": [],
   "source": [
    "def plot_spectrum_vs_theta(df, title='$Ph_3P$'):\n",
    "    fig = plt.figure(figsize=(8,6))\n",
    "    ax = fig.add_subplot(111)\n",
    "    df.plot(x='2theta', y='I', c='k', ax=ax, label='Yasuda, 1984')\n",
    "\n",
    "    plt.title(title, fontsize=22)\n",
    "    ax.set_ylabel(\"Intensity (arb. units)\", fontsize=20)\n",
    "    ax.set_xlabel(r\"2$\\theta$\", fontsize=20)\n",
    "    plt.tick_params(labelsize=18)\n",
    "\n",
    "    ax.xaxis.set_major_locator(MultipleLocator(0.5))\n",
    "    ax.xaxis.set_minor_locator(MultipleLocator(0.1))\n",
    "    ax.tick_params(direction='in', width=1, length=5, which='minor')\n",
    "    ax.tick_params(direction='in', width=2, length=8, which='major')\n",
    "    plt.legend(fontsize=18)\n",
    "    plt.show()\n",
    "    \n",
    "plot_spectrum_vs_theta(df1)\n",
    "plot_spectrum_vs_theta(df2)\n",
    "plot_spectrum_vs_theta(df3)"
   ]
  },
  {
   "cell_type": "code",
   "execution_count": null,
   "metadata": {},
   "outputs": [],
   "source": [
    "hc = 1.23984193e-6 #ev/m\n",
    "d = 6.5327e-10 #m\n",
    "def to_energy(two_theta):\n",
    "    return hc/(d*np.sin(two_theta*(np.pi/180)/2))"
   ]
  },
  {
   "cell_type": "code",
   "execution_count": null,
   "metadata": {},
   "outputs": [],
   "source": [
    "def plot_spectrum_from_df(df, title=None):\n",
    "    fig = plt.figure(figsize=(8,6))\n",
    "    ax = fig.add_subplot(111)\n",
    "    x = to_energy(df['2theta'].values)\n",
    "    y = df['I'].values\n",
    "    y = y - np.min(y)\n",
    "    y = y/np.max(y)\n",
    "    plt.plot(x, y, 'k', label='Yasuda, 1984')\n",
    "\n",
    "    plt.title(title, fontsize=22)\n",
    "    ax.set_ylabel(\"Intensity (arb. units)\", fontsize=20)\n",
    "    ax.set_xlabel(r\"Energy (eV)\", fontsize=20)\n",
    "    plt.tick_params(labelsize=18)\n",
    "\n",
    "#     ax.xaxis.set_major_locator(MultipleLocator(5))\n",
    "#     ax.xaxis.set_minor_locator(MultipleLocator(1))\n",
    "    ax.tick_params(direction='in', width=1, length=5, which='minor')\n",
    "    ax.tick_params(direction='in', width=2, length=8, which='major')\n",
    "    plt.legend(fontsize=18)\n",
    "    plt.show()"
   ]
  },
  {
   "cell_type": "code",
   "execution_count": null,
   "metadata": {},
   "outputs": [],
   "source": [
    "plot_spectrum_from_df(df1, title=\"$Ph_3P$\")\n",
    "plot_spectrum_from_df(df2, title=\"$Ph_3PO$\")\n",
    "plot_spectrum_from_df(df3, title=\"$PhO_3PO$\")"
   ]
  },
  {
   "cell_type": "code",
   "execution_count": null,
   "metadata": {},
   "outputs": [],
   "source": [
    "def stack_plot(Spectrums, Labels, title=None,\n",
    "               verbose=True, label=None, peaknorm=True):\n",
    "    \n",
    "    n = len(Spectrums)\n",
    "    Colors=plt.cm.viridis(np.arange(n)/(n+1))\n",
    "    if n == 2:\n",
    "        Colors=['black', 'red']\n",
    "    fig, ax = plt.subplots(figsize=(10,8))\n",
    "\n",
    "    i = 0\n",
    "    for spectrum in Spectrums:\n",
    "        x, y = spectrum\n",
    "        if peaknorm:\n",
    "            y = y/np.max(y)\n",
    "        ax.plot(x, y, '-', color=Colors[i], linewidth=2, label=Labels[i])\n",
    "        i += 1\n",
    "\n",
    "    if title is not None:\n",
    "        plt.title(title, fontsize=20)\n",
    "    plt.xlabel('Energy (eV)', fontsize=18)\n",
    "    plt.tick_params(labelsize=16)\n",
    "\n",
    "    if verbose:\n",
    "        ax.xaxis.set_major_locator(MultipleLocator(5))\n",
    "        ax.xaxis.set_major_formatter(FormatStrFormatter('%d'))\n",
    "        ax.xaxis.set_minor_locator(MultipleLocator(1))\n",
    "        ax.tick_params(direction='in', width=1, length=5, which='minor')\n",
    "\n",
    "    ax.tick_params(direction='in', width=2, length=8, which='major')\n",
    "\n",
    "    plt.legend(fontsize=20)\n",
    "    \n",
    "    plt.show()"
   ]
  },
  {
   "cell_type": "code",
   "execution_count": null,
   "metadata": {},
   "outputs": [],
   "source": [
    "x = to_energy(df1['2theta'].values)\n",
    "y = df1['I'].values\n",
    "y = y - np.min(y)\n",
    "y = y/np.max(y)\n",
    "emin, emax = 350, 800\n",
    "x2 = XESenergy[emin:emax]\n",
    "i = np.where(CIDS==mycids[0])[0][0]\n",
    "y2 = XES[i][emin:emax]\n",
    "e_shift = x2[np.argmax(y2)] - x[np.argmax(y)]\n",
    "\n",
    "stack_plot([[x, y],[x2-e_shift, y2]], ['Yasuda, 1984', 'NWChem'], title=\"$Ph_3P$\")"
   ]
  },
  {
   "cell_type": "code",
   "execution_count": null,
   "metadata": {},
   "outputs": [],
   "source": [
    "x = to_energy(df2['2theta'].values)\n",
    "y = df2['I'].values\n",
    "y = y - np.min(y)\n",
    "y = y/np.max(y)\n",
    "emin, emax = 410, 750\n",
    "x2 = XESenergy[emin:emax]\n",
    "i = np.where(CIDS==mycids[1])[0][0]\n",
    "y2 = XES[i][emin:emax]\n",
    "\n",
    "stack_plot([[x, y],[x2-e_shift, y2]], ['Yasuda, 1984', 'NWChem'], title=\"$Ph_3PO$\", verbose=True)"
   ]
  },
  {
   "cell_type": "code",
   "execution_count": null,
   "metadata": {},
   "outputs": [],
   "source": [
    "x = to_energy(df3['2theta'].values)\n",
    "y = df3['I'].values\n",
    "y = y - np.min(y)\n",
    "y = y/np.max(y)\n",
    "emin, emax = 410, 750\n",
    "x2 = XESenergy[emin:emax]\n",
    "i = np.where(CIDS==mycids[2])[0][0]\n",
    "y2 = XES[i][emin:emax]\n",
    "\n",
    "stack_plot([[x, y],[x2-e_shift, y2]], ['Yasuda, 1984', 'NWChem'], title=\"$PhO_3PO$\", verbose=True)"
   ]
  },
  {
   "cell_type": "code",
   "execution_count": null,
   "metadata": {},
   "outputs": [],
   "source": [
    "print(e_shift)"
   ]
  },
  {
   "cell_type": "markdown",
   "metadata": {},
   "source": [
    "# ML and Data Science section"
   ]
  },
  {
   "cell_type": "code",
   "execution_count": null,
   "metadata": {},
   "outputs": [],
   "source": [
    "def Spagetti_plot(energy, X, mode='XES', MINIMAX=[0,-1]):\n",
    "    \n",
    "    MIN, MAX = MINIMAX\n",
    "    \n",
    "    fig, ax = plt.subplots(figsize=(12,8))\n",
    "    \n",
    "    for x in X:\n",
    "        plt.plot(energy, x, '-', c='k', alpha=0.1)\n",
    "                \n",
    "    plt.title(f\"{mode} Spectra\", fontsize=30)\n",
    "    \n",
    "    plt.xlabel('Energy (eV)', fontsize=26)\n",
    "    plt.xticks(fontsize=20)\n",
    "    ax.tick_params(direction='in', width=2, length=8)\n",
    "    plt.yticks([])\n",
    "\n",
    "    plt.show()\n",
    "    \n",
    "Spagetti_plot(XESenergy, XES, mode='XES')\n",
    "Spagetti_plot(XANESenergy, XANES, mode='XANES')"
   ]
  },
  {
   "cell_type": "code",
   "execution_count": null,
   "metadata": {},
   "outputs": [],
   "source": [
    "def Rainbow_spagetti_plot(energy, X, mode='XES', MINIMAX=[0,-1]):\n",
    "    \n",
    "    MIN, MAX = MINIMAX\n",
    "    \n",
    "    fig, ax = plt.subplots(figsize=(12,8))\n",
    "    \n",
    "    min_whiteline, max_whiteline = 500, 0\n",
    "    for x in X:\n",
    "        whiteline_idx = np.argmax(x)\n",
    "        if whiteline_idx < min_whiteline:\n",
    "            min_whiteline = whiteline_idx\n",
    "        if whiteline_idx > max_whiteline:\n",
    "            max_whiteline = whiteline_idx\n",
    "    total_idx_range = max_whiteline - min_whiteline\n",
    "    \n",
    "    for x in X:\n",
    "        whiteline_idx = np.argmax(x)\n",
    "        scale = (whiteline_idx - min_whiteline)/total_idx_range\n",
    "        plt.plot(energy, x, '-', color=plt.cm.viridis(scale), alpha=0.1)\n",
    "                \n",
    "    plt.title(f\"{mode} Spectra\", fontsize=30)\n",
    "    \n",
    "    plt.xlabel('Energy (eV)', fontsize=26)\n",
    "    plt.xticks(fontsize=20)\n",
    "    ax.tick_params(direction='in', width=2, length=8)\n",
    "    plt.yticks([])\n",
    "\n",
    "    plt.show()\n",
    "    \n",
    "Rainbow_spagetti_plot(XANESenergy, XANES, mode='XANES')"
   ]
  },
  {
   "cell_type": "code",
   "execution_count": null,
   "metadata": {},
   "outputs": [],
   "source": [
    "def Rainbow_spagetti_plot_stack(energy, X, mode='XES', MINIMAX=[0,-1]):\n",
    "    \n",
    "    mn, mx = MINIMAX\n",
    "    \n",
    "    fig, ax = plt.subplots(figsize=(8,15))\n",
    "    \n",
    "    min_whiteline, max_whiteline = 500, 0\n",
    "    for x in X:\n",
    "        whiteline_idx = np.argmax(x)\n",
    "        if whiteline_idx < min_whiteline:\n",
    "            min_whiteline = whiteline_idx\n",
    "        if whiteline_idx > max_whiteline:\n",
    "            max_whiteline = whiteline_idx\n",
    "    total_idx_range = max_whiteline - min_whiteline\n",
    "    \n",
    "    for x in X:\n",
    "        whiteline_idx = np.argmax(x)\n",
    "        scale = (whiteline_idx - min_whiteline)/total_idx_range\n",
    "        bin_num = int(scale*10)//2\n",
    "        if bin_num == 5:\n",
    "            bin_num = 4\n",
    "        plt.plot(energy[mn:mx], x[mn:mx] + bin_num, '-', color=plt.cm.viridis(scale), alpha=0.1)\n",
    "                \n",
    "    plt.title(f\"{mode} Spectra\", fontsize=30)\n",
    "    \n",
    "    plt.xlabel('Energy (eV)', fontsize=26)\n",
    "    ax.tick_params(direction='in', width=2, length=8)\n",
    "    plt.xticks(fontsize=20)\n",
    "    \n",
    "    if mode == 'XANES':\n",
    "        ax.xaxis.set_minor_locator(MultipleLocator(2))\n",
    "        ax.xaxis.set_major_locator(MultipleLocator(10))\n",
    "    \n",
    "    ax.tick_params(direction='in', width=2, length=10, which='major')\n",
    "    ax.tick_params(direction='in', width=1, length=8, which='minor')\n",
    "    plt.yticks([])\n",
    "\n",
    "    plt.show()\n",
    "    \n",
    "Rainbow_spagetti_plot_stack(XANESenergy, XANES, mode='XANES')"
   ]
  },
  {
   "cell_type": "code",
   "execution_count": null,
   "metadata": {},
   "outputs": [],
   "source": [
    "def Rainbow_spagetti_plot_stack2(energy, X, mode='XES', MINIMAX=[0,-1], figsize=(8,15)):\n",
    "    \n",
    "    mn, mx = MINIMAX\n",
    "    \n",
    "    fig, ax = plt.subplots(figsize=figsize)\n",
    "    \n",
    "    min_height, max_height = 1, 0\n",
    "    for x in X:\n",
    "        x = x[mn:mx]\n",
    "        ligand_peak_height = np.max(x)\n",
    "        if ligand_peak_height < min_height:\n",
    "            min_height = ligand_peak_height\n",
    "        if ligand_peak_height > max_height:\n",
    "            max_height = ligand_peak_height\n",
    "    total_range = max_height - min_height\n",
    "    \n",
    "    num_bins = 2\n",
    "    \n",
    "    for x in X:\n",
    "        ligand_peak_height = np.max(x)\n",
    "        scale = (ligand_peak_height - min_height)/total_range\n",
    "        bin_num = 0 # int(scale//num_bins)\n",
    "        if bin_num >= 3:\n",
    "            bin_num = 2\n",
    "        plt.plot(energy[mn:mx], x[mn:mx] + bin_num*0.3, '-', color=plt.cm.viridis(bin_num/num_bins), alpha=0.1)\n",
    "                \n",
    "    plt.title(f\"{mode} Spectra\", fontsize=30)\n",
    "    \n",
    "    plt.xlabel('Energy (eV)', fontsize=26)\n",
    "    plt.xticks(fontsize=20)\n",
    "    ax.xaxis.set_minor_locator(MultipleLocator(1))\n",
    "    ax.xaxis.set_major_locator(MultipleLocator(5))\n",
    "    ax.tick_params(direction='in', width=2, length=10, which='major')\n",
    "    ax.tick_params(direction='in', width=1, length=8, which='minor')\n",
    "    plt.yticks([])\n",
    "\n",
    "    plt.show()\n",
    "\n",
    "Rainbow_spagetti_plot_stack2(XESenergy, XES, mode='XES', MINIMAX=[120, 370], figsize=(10,6))"
   ]
  },
  {
   "cell_type": "code",
   "execution_count": null,
   "metadata": {},
   "outputs": [],
   "source": [
    "warnings.filterwarnings(\"ignore\")\n",
    "# pca\n",
    "pca1 = PCA(n_components=2)\n",
    "XES_PCA = pca1.fit_transform(XES)\n",
    "\n",
    "# pca\n",
    "pca2 = PCA(n_components=2)\n",
    "XANES_PCA = pca2.fit_transform(XANES)\n",
    "\n",
    "# tsne\n",
    "tsne = TSNE(n_components=2, perplexity=10)\n",
    "XES_TSNE = tsne.fit_transform(XES)\n",
    "\n",
    "# tsne\n",
    "tsne = TSNE(n_components=2, perplexity=10, random_state=30)\n",
    "XANES_TSNE = tsne.fit_transform(XANES)"
   ]
  },
  {
   "cell_type": "code",
   "execution_count": null,
   "metadata": {},
   "outputs": [],
   "source": [
    "def plot_dim_red(X_red, method, fontsize=16, mode='VtC-XES'):\n",
    "\n",
    "    fig = plt.figure(figsize=(7,6))\n",
    "    ax = fig.add_subplot(111)\n",
    "    \n",
    "    plt.scatter(X_red[:, 0], X_red[:, 1], c='k')\n",
    "    \n",
    "    plt.xticks(fontsize=fontsize+3)\n",
    "    plt.yticks(fontsize=fontsize+3)\n",
    "    \n",
    "    ax.set_xlabel(f\"{method} [0]\", fontsize=fontsize+6)\n",
    "    ax.set_ylabel(f\"{method} [1]\", fontsize=fontsize+6)\n",
    "    ax.tick_params(direction='in', width=2, length=8)\n",
    "    \n",
    "    legend = ax.legend([f'{mode}:\\n{method}'], handlelength=0, handletextpad=0,\n",
    "                           fancybox=True, fontsize=22)\n",
    "    for item in legend.legendHandles:\n",
    "        item.set_visible(False)\n",
    "    \n",
    "    ax.axes.xaxis.set_visible(False)\n",
    "    ax.axes.yaxis.set_visible(False)\n",
    "    \n",
    "    plt.show()"
   ]
  },
  {
   "cell_type": "code",
   "execution_count": null,
   "metadata": {},
   "outputs": [],
   "source": [
    "plot_dim_red(XES_PCA,'PCA')\n",
    "plot_dim_red(XES_TSNE,'t-SNE')\n",
    "plot_dim_red(XANES_PCA,'PCA', mode='XANES')\n",
    "plot_dim_red(XANES_TSNE,'t-SNE', mode='XANES')"
   ]
  },
  {
   "cell_type": "code",
   "execution_count": null,
   "metadata": {},
   "outputs": [],
   "source": [
    "fig, axes = plt.subplots(figsize=(12, 8), ncols=2)\n",
    "\n",
    "pcs = pca1.components_\n",
    "\n",
    "for ax, pc in zip(axes, pcs):\n",
    "    x = np.arange(len(pc))\n",
    "    ax.plot(x, pc, 'k', linewidth=3)\n",
    "\n",
    "plt.show()"
   ]
  },
  {
   "cell_type": "code",
   "execution_count": null,
   "metadata": {},
   "outputs": [],
   "source": [
    "fig, axes = plt.subplots(figsize=(12, 8), ncols=2)\n",
    "\n",
    "pcs = pca2.components_\n",
    "\n",
    "for ax, pc in zip(axes, pcs):\n",
    "    x = np.arange(len(pc))\n",
    "    ax.plot(x, pc, 'k', linewidth=3)\n",
    "\n",
    "plt.show()"
   ]
  },
  {
   "cell_type": "code",
   "execution_count": null,
   "metadata": {},
   "outputs": [],
   "source": [
    "def make_stacked_scree(xes, xanes, n=20):\n",
    "    \n",
    "    xes = xes[:n]\n",
    "    xanes = xanes[:n]\n",
    "\n",
    "    fig, ax = plt.subplots(figsize=(12, 8))\n",
    "\n",
    "    x = np.arange(n)+1\n",
    "\n",
    "    ax.plot(x, xes, 's-', markersize=10, fillstyle='none', color=plt.cm.viridis(0.2), label='XES')\n",
    "    ax.plot(x, xanes, 'o-', markersize=10, color=plt.cm.viridis(0.6), label='XANES')\n",
    "\n",
    "    plt.xticks(x, fontsize=18)\n",
    "    plt.yticks(fontsize=18)\n",
    "    plt.xlabel('Number of Parameters', fontsize=22)\n",
    "    plt.ylabel(f'Fraction of Contribution\\n(Averaged Over Data)', fontsize=22)\n",
    "    plt.xlim(0,n+1)\n",
    "    ax.tick_params(direction='in', width=2, length=8)\n",
    "    \n",
    "    plt.legend(fontsize=28)\n",
    "\n",
    "    plt.show()"
   ]
  },
  {
   "cell_type": "code",
   "execution_count": null,
   "metadata": {},
   "outputs": [],
   "source": [
    "def get_evals(X, n=20):\n",
    "    \n",
    "    pca = PCA()\n",
    "    X_PCA = pca.fit_transform(X)\n",
    "    \n",
    "    evals = np.sort(np.abs(X_PCA), axis=1)\n",
    "    evals = np.flip(evals, axis=1)[:,:n]\n",
    "    pcs = np.average(evals, axis=0)\n",
    "    \n",
    "    return pcs\n",
    "\n",
    "n = 20\n",
    "make_stacked_scree(get_evals(XES, n=n), get_evals(XANES, n=n), n=n)"
   ]
  },
  {
   "cell_type": "code",
   "execution_count": null,
   "metadata": {},
   "outputs": [],
   "source": []
  }
 ],
 "metadata": {
  "kernelspec": {
   "display_name": "Python 3",
   "language": "python",
   "name": "python3"
  },
  "language_info": {
   "codemirror_mode": {
    "name": "ipython",
    "version": 3
   },
   "file_extension": ".py",
   "mimetype": "text/x-python",
   "name": "python",
   "nbconvert_exporter": "python",
   "pygments_lexer": "ipython3",
   "version": "3.9.5"
  }
 },
 "nbformat": 4,
 "nbformat_minor": 2
}
