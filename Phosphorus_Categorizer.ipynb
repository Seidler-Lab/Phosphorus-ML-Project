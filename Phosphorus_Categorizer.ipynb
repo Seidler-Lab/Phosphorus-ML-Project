{
 "cells": [
  {
   "cell_type": "code",
   "execution_count": 1,
   "metadata": {},
   "outputs": [],
   "source": [
    "# Authors: Samantha Tetef and Vikram Kashyap\n",
    "# Date: Winter 2020-2021 to Summer 2021"
   ]
  },
  {
   "cell_type": "code",
   "execution_count": 2,
   "metadata": {},
   "outputs": [],
   "source": [
    "import sys, subprocess\n",
    "# insert at 1, 0 is the script path (or '' in REPL)\n",
    "sys.path.insert(1, '../moldl/')\n",
    "import moldl\n",
    "\n",
    "import importlib\n",
    "from pathlib import Path\n",
    "\n",
    "importlib.reload(moldl)\n",
    "from moldl import *"
   ]
  },
  {
   "cell_type": "code",
   "execution_count": 3,
   "metadata": {},
   "outputs": [],
   "source": [
    "def PhosphorusSorter(mol):\n",
    "    \"\"\"Sort molecule based on phosphorus bonding environment.\"\"\"\n",
    "    # get phosphorus atom\n",
    "    p = mol.getAtoms(element=15)[0]\n",
    "    # get all bonds to P atom\n",
    "    bonds = mol.getBonds(atom=p)\n",
    "    \n",
    "    # functional and R group counters\n",
    "    doubleo, singleo, OH = 0,0,0  # check oxygen bonds\n",
    "    double_S, single_S = 0,0  # check for sulfur bonds\n",
    "    single_R, double_R = 0,0  # keep track of radicals\n",
    "    H = 0  # check for just H bonds\n",
    "\n",
    "    for b in bonds:\n",
    "        partner = b.partnerof(p)\n",
    "\n",
    "        if partner.element == 1:\n",
    "            H += 1\n",
    "        \n",
    "        if partner.element == 16:\n",
    "            # if sulfur\n",
    "            if b.order == 2: double_S += 1\n",
    "            if b.order == 1: single_S += 1\n",
    "        \n",
    "        if partner.element == 8:\n",
    "            # if oxygen\n",
    "            if b.order == 2: doubleo +=1\n",
    "            if b.order == 1: singleo +=1\n",
    "            for obond in mol.getBonds(atom=partner):\n",
    "                if obond.partnerof(partner).element == 1:\n",
    "                    OH += 1\n",
    "        else:\n",
    "            # if anything\n",
    "            if b.order == 2: double_R += 1\n",
    "            if b.order == 1: single_R += 1\n",
    "    \n",
    "    # Type 9\n",
    "    if (doubleo, singleo, double_S, single_S) == (0,2,1,0):\n",
    "        return 'methylphosphonothioate'\n",
    "    \n",
    "    # Type 8\n",
    "    elif (doubleo, singleo, double_S, single_S) == (0,3,1,0):\n",
    "        return 'phosphorothioate'\n",
    "    \n",
    "    # Type 7\n",
    "    elif (doubleo, singleo, double_S, single_S) == (0,2,1,1):\n",
    "        return 'dithiophosphate'\n",
    "    \n",
    "    # Type 6\n",
    "    elif (doubleo, singleo, double_R, single_R) == (1,3,0,0):\n",
    "        return 'phosphate'\n",
    "    \n",
    "    # Type 5\n",
    "    elif (doubleo, singleo, double_R, single_R) == (1,2,0,1):\n",
    "        if OH == 2:\n",
    "            return 'phosphonic_acid'\n",
    "        else:\n",
    "            return 'phosphonate'\n",
    "    elif (doubleo, singleo, double_R, single_R) == (0,3,0,0):\n",
    "        return 'phosphite_ester'\n",
    "    elif (doubleo, singleo, double_R, single_R) == (1,1,0,0):\n",
    "        return 'hypophosphite'\n",
    "                                                     \n",
    "    # Type 4\n",
    "    elif (doubleo, singleo, double_R, single_R) == (1,1,0,2):\n",
    "        if OH == 0:\n",
    "            return 'phosphinate'\n",
    "        elif OH == 1:\n",
    "            return 'phosphenic_acid'\n",
    "    elif (doubleo, singleo, double_R, single_R) == (0,2,0,1):\n",
    "        return 'phosphonite'\n",
    "    \n",
    "    # Type 3\n",
    "    elif (doubleo, singleo, double_R, single_R) == (1,0,0,3):\n",
    "        return 'phosphine_oxide'\n",
    "    elif (doubleo, singleo, double_R, single_R) == (0,1,0,2):\n",
    "        return 'phosphinite'\n",
    "    \n",
    "    # Type 2\n",
    "    elif (doubleo, singleo, double_R, single_R) == (0,0,0,3):\n",
    "        if H == 2:\n",
    "            return 'phosphane'\n",
    "        else:\n",
    "            return 'trialkyl_phosphine'\n",
    "    elif (doubleo, singleo, double_R, single_R) == (0,0,1,1):\n",
    "        return 'phosphaalkene'\n",
    "    \n",
    "    # Type 1\n",
    "    elif (doubleo, singleo, double_R, single_R) == (0,0,1,3):\n",
    "        return 'phosphorane'"
   ]
  },
  {
   "cell_type": "code",
   "execution_count": 4,
   "metadata": {},
   "outputs": [
    {
     "name": "stdout",
     "output_type": "stream",
     "text": [
      "124\r"
     ]
    }
   ],
   "source": [
    "db = MolDB('Database/')\n",
    "\n",
    "\"\"\" \n",
    "            In terminal, use the command: \n",
    "ls ProcessedData/*_xes.dat > processed_cids.list\n",
    "            to add more CIDs to database\n",
    "\"\"\"\n",
    "with Path('processed_cids.list').open() as f:\n",
    "    filedata = f.read()\n",
    "    filedata = filedata.replace('_xes.dat', '').replace('ProcessedData/', '')\n",
    "    processed_cids = filedata.splitlines()\n",
    "processed_cids = set(processed_cids)\n",
    "\n",
    "# add to moldl database using the processsed spectrum cids\n",
    "iterator = 0\n",
    "for cid in processed_cids:\n",
    "    if cid not in db.molecules:\n",
    "        db.addMolecule(Molecule.from_cid(cid))\n",
    "        print(f'{iterator}\\r', end=\"\")\n",
    "        iterator += 1"
   ]
  },
  {
   "cell_type": "code",
   "execution_count": 5,
   "metadata": {},
   "outputs": [],
   "source": [
    "sortedids = db.sort(PhosphorusSorter, processed_cids)\n",
    "\n",
    "listdir = Path('Categories/')\n",
    "for category in sortedids:\n",
    "    with (listdir/(str(category)+'.list')).open('w') as f:\n",
    "        for cid in sortedids[category]:\n",
    "            f.write(str(cid)+'\\n')"
   ]
  },
  {
   "cell_type": "code",
   "execution_count": null,
   "metadata": {},
   "outputs": [],
   "source": []
  }
 ],
 "metadata": {
  "kernelspec": {
   "display_name": "Python 3",
   "language": "python",
   "name": "python3"
  },
  "language_info": {
   "codemirror_mode": {
    "name": "ipython",
    "version": 3
   },
   "file_extension": ".py",
   "mimetype": "text/x-python",
   "name": "python",
   "nbconvert_exporter": "python",
   "pygments_lexer": "ipython3",
   "version": "3.7.3"
  }
 },
 "nbformat": 4,
 "nbformat_minor": 2
}
