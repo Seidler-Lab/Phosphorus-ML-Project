{
 "cells": [
  {
   "cell_type": "code",
   "execution_count": 1,
   "metadata": {},
   "outputs": [],
   "source": [
    "# Authors: Samantha Tetef and Vikram Kashyap\n",
    "# Date: Winter 2020-2021 to Summer 2021"
   ]
  },
  {
   "cell_type": "code",
   "execution_count": 2,
   "metadata": {},
   "outputs": [],
   "source": [
    "import sys\n",
    "# insert at 1, 0 is the script path (or '' in REPL)\n",
    "sys.path.insert(1, '../moldl/')\n",
    "import moldl\n",
    "\n",
    "import importlib\n",
    "from pathlib import Path\n",
    "\n",
    "importlib.reload(moldl)\n",
    "from moldl import *"
   ]
  },
  {
   "cell_type": "code",
   "execution_count": 9,
   "metadata": {},
   "outputs": [],
   "source": [
    "def PhosphorusSorter(mol):\n",
    "    p = mol.getAtoms(element=15)[0]  # get phosphorus atom\n",
    "    bonds = mol.getBonds(atom=p)  # get all bonds to P atom\n",
    "    doubleo, singleo, ohgroup, other = 0,0,0,0  # functional/ R group counters\n",
    "    for b in bonds:\n",
    "        partner = b.partnerof(p)\n",
    "        if partner.element == 8:  # if oxygen\n",
    "            if b.order == 2: doubleo +=1\n",
    "            if b.order == 1:\n",
    "                singleo +=1\n",
    "                for obond in mol.getBonds(atom=partner):\n",
    "                    if obond.partnerof(partner).element==1:\n",
    "                        ohgroup+=1\n",
    "                        singleo-=1\n",
    "        else:\n",
    "            other +=1\n",
    "    if (doubleo, singleo, ohgroup, other) == (1,3,0,0):\n",
    "        return 'phosphate_esters'\n",
    "    elif (doubleo, singleo, ohgroup, other) == (1,0,2,1):\n",
    "        return 'phosphonic_acids'\n",
    "    elif (doubleo, singleo, ohgroup, other) == (1,2,0,1):\n",
    "        return 'phosphonate'\n",
    "    elif (doubleo, singleo, ohgroup, other) == (0,3,0,0):\n",
    "        return 'phosphite_esters'\n",
    "    elif (doubleo, singleo, ohgroup, other) == (1,0,1,2):\n",
    "        return 'phosphenic_acids'\n",
    "    elif (doubleo, singleo, ohgroup, other) == (1,1,0,2):\n",
    "        return 'phosphinate'\n",
    "    elif (doubleo, singleo, ohgroup, other) == (1,0,0,3):\n",
    "        return 'phosphine_oxides'\n",
    "    elif (doubleo, singleo, ohgroup, other) == (0,0,0,3):\n",
    "        return 'trialkyl_phosphines'\n",
    "    elif (doubleo, singleo, ohgroup, other) == (0,0,0,4):\n",
    "        return 'tetraalkyl_phosphonium'\n",
    "    elif (doubleo, singleo, ohgroup, other) == (0,0,0,2):\n",
    "        return 'phosphaalkenes'\n",
    "    else:\n",
    "        return 'other'"
   ]
  },
  {
   "cell_type": "code",
   "execution_count": 10,
   "metadata": {},
   "outputs": [],
   "source": [
    "db = MolDB('Database/')\n",
    "\n",
    "with Path('processed_cids.list').open() as f:\n",
    "    processed_cids = f.read().splitlines()\n",
    "processed_cids = set(processed_cids)\n",
    "\n",
    "# add to moldl database using the processsed spectrum cids\n",
    "iterator = 0\n",
    "for cid in processed_cids:\n",
    "    if cid not in db.molecules:\n",
    "        db.addMolecule(Molecule.from_cid(cid))\n",
    "        print(f'{iterator}\\r', end=\"\")\n",
    "        iterator += 1"
   ]
  },
  {
   "cell_type": "code",
   "execution_count": 11,
   "metadata": {},
   "outputs": [],
   "source": [
    "sortedids = db.sort(PhosphorusSorter, processed_cids)\n",
    "# sortedids['phosphonic acids']\n",
    "\n",
    "listdir = Path('Categories/')\n",
    "for category in sortedids:\n",
    "    with (listdir/(str(category)+'.list')).open('w') as f:\n",
    "        for cid in sortedids[category]:\n",
    "            f.write(str(cid)+'\\n')"
   ]
  },
  {
   "cell_type": "code",
   "execution_count": null,
   "metadata": {},
   "outputs": [],
   "source": []
  }
 ],
 "metadata": {
  "kernelspec": {
   "display_name": "Python 3",
   "language": "python",
   "name": "python3"
  },
  "language_info": {
   "codemirror_mode": {
    "name": "ipython",
    "version": 3
   },
   "file_extension": ".py",
   "mimetype": "text/x-python",
   "name": "python",
   "nbconvert_exporter": "python",
   "pygments_lexer": "ipython3",
   "version": "3.7.3"
  }
 },
 "nbformat": 4,
 "nbformat_minor": 2
}
