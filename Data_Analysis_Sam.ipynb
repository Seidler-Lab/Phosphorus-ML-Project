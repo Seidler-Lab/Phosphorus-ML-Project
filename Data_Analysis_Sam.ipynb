{
 "cells": [
  {
   "cell_type": "code",
   "execution_count": 1,
   "metadata": {},
   "outputs": [],
   "source": [
    "# Authors: Samantha Tetef and Vikram Kashyap\n",
    "# Date: Winter 2020-2021 to Summer 2021"
   ]
  },
  {
   "cell_type": "code",
   "execution_count": 2,
   "metadata": {},
   "outputs": [
    {
     "name": "stderr",
     "output_type": "stream",
     "text": [
      "C:\\Users\\saman\\Downloads\\Anaconda\\lib\\site-packages\\sklearn\\linear_model\\least_angle.py:30: DeprecationWarning: `np.float` is a deprecated alias for the builtin `float`. To silence this warning, use `float` by itself. Doing this will not modify any behavior and is safe. If you specifically wanted the numpy scalar type, use `np.float64` here.\n",
      "Deprecated in NumPy 1.20; for more details and guidance: https://numpy.org/devdocs/release/1.20.0-notes.html#deprecations\n",
      "  method='lar', copy_X=True, eps=np.finfo(np.float).eps,\n",
      "C:\\Users\\saman\\Downloads\\Anaconda\\lib\\site-packages\\sklearn\\linear_model\\least_angle.py:167: DeprecationWarning: `np.float` is a deprecated alias for the builtin `float`. To silence this warning, use `float` by itself. Doing this will not modify any behavior and is safe. If you specifically wanted the numpy scalar type, use `np.float64` here.\n",
      "Deprecated in NumPy 1.20; for more details and guidance: https://numpy.org/devdocs/release/1.20.0-notes.html#deprecations\n",
      "  method='lar', copy_X=True, eps=np.finfo(np.float).eps,\n",
      "C:\\Users\\saman\\Downloads\\Anaconda\\lib\\site-packages\\sklearn\\linear_model\\least_angle.py:284: DeprecationWarning: `np.float` is a deprecated alias for the builtin `float`. To silence this warning, use `float` by itself. Doing this will not modify any behavior and is safe. If you specifically wanted the numpy scalar type, use `np.float64` here.\n",
      "Deprecated in NumPy 1.20; for more details and guidance: https://numpy.org/devdocs/release/1.20.0-notes.html#deprecations\n",
      "  eps=np.finfo(np.float).eps, copy_Gram=True, verbose=0,\n",
      "C:\\Users\\saman\\Downloads\\Anaconda\\lib\\site-packages\\sklearn\\linear_model\\least_angle.py:862: DeprecationWarning: `np.float` is a deprecated alias for the builtin `float`. To silence this warning, use `float` by itself. Doing this will not modify any behavior and is safe. If you specifically wanted the numpy scalar type, use `np.float64` here.\n",
      "Deprecated in NumPy 1.20; for more details and guidance: https://numpy.org/devdocs/release/1.20.0-notes.html#deprecations\n",
      "  eps=np.finfo(np.float).eps, copy_X=True, fit_path=True,\n",
      "C:\\Users\\saman\\Downloads\\Anaconda\\lib\\site-packages\\sklearn\\linear_model\\least_angle.py:1101: DeprecationWarning: `np.float` is a deprecated alias for the builtin `float`. To silence this warning, use `float` by itself. Doing this will not modify any behavior and is safe. If you specifically wanted the numpy scalar type, use `np.float64` here.\n",
      "Deprecated in NumPy 1.20; for more details and guidance: https://numpy.org/devdocs/release/1.20.0-notes.html#deprecations\n",
      "  eps=np.finfo(np.float).eps, copy_X=True, fit_path=True,\n",
      "C:\\Users\\saman\\Downloads\\Anaconda\\lib\\site-packages\\sklearn\\linear_model\\least_angle.py:1127: DeprecationWarning: `np.float` is a deprecated alias for the builtin `float`. To silence this warning, use `float` by itself. Doing this will not modify any behavior and is safe. If you specifically wanted the numpy scalar type, use `np.float64` here.\n",
      "Deprecated in NumPy 1.20; for more details and guidance: https://numpy.org/devdocs/release/1.20.0-notes.html#deprecations\n",
      "  eps=np.finfo(np.float).eps, positive=False):\n",
      "C:\\Users\\saman\\Downloads\\Anaconda\\lib\\site-packages\\sklearn\\linear_model\\least_angle.py:1362: DeprecationWarning: `np.float` is a deprecated alias for the builtin `float`. To silence this warning, use `float` by itself. Doing this will not modify any behavior and is safe. If you specifically wanted the numpy scalar type, use `np.float64` here.\n",
      "Deprecated in NumPy 1.20; for more details and guidance: https://numpy.org/devdocs/release/1.20.0-notes.html#deprecations\n",
      "  max_n_alphas=1000, n_jobs=None, eps=np.finfo(np.float).eps,\n",
      "C:\\Users\\saman\\Downloads\\Anaconda\\lib\\site-packages\\sklearn\\linear_model\\least_angle.py:1602: DeprecationWarning: `np.float` is a deprecated alias for the builtin `float`. To silence this warning, use `float` by itself. Doing this will not modify any behavior and is safe. If you specifically wanted the numpy scalar type, use `np.float64` here.\n",
      "Deprecated in NumPy 1.20; for more details and guidance: https://numpy.org/devdocs/release/1.20.0-notes.html#deprecations\n",
      "  max_n_alphas=1000, n_jobs=None, eps=np.finfo(np.float).eps,\n",
      "C:\\Users\\saman\\Downloads\\Anaconda\\lib\\site-packages\\sklearn\\linear_model\\least_angle.py:1738: DeprecationWarning: `np.float` is a deprecated alias for the builtin `float`. To silence this warning, use `float` by itself. Doing this will not modify any behavior and is safe. If you specifically wanted the numpy scalar type, use `np.float64` here.\n",
      "Deprecated in NumPy 1.20; for more details and guidance: https://numpy.org/devdocs/release/1.20.0-notes.html#deprecations\n",
      "  eps=np.finfo(np.float).eps, copy_X=True, positive=False):\n",
      "C:\\Users\\saman\\Downloads\\Anaconda\\lib\\site-packages\\sklearn\\decomposition\\online_lda.py:29: DeprecationWarning: `np.float` is a deprecated alias for the builtin `float`. To silence this warning, use `float` by itself. Doing this will not modify any behavior and is safe. If you specifically wanted the numpy scalar type, use `np.float64` here.\n",
      "Deprecated in NumPy 1.20; for more details and guidance: https://numpy.org/devdocs/release/1.20.0-notes.html#deprecations\n",
      "  EPS = np.finfo(np.float).eps\n"
     ]
    }
   ],
   "source": [
    "import warnings\n",
    "warnings.filterwarnings(\"ignore\")\n",
    "\n",
    "from utils import *\n",
    "from importlib import reload\n",
    "# to reload utils, run:\n",
    "import utils\n",
    "utils = reload(utils)\n",
    "from utils import *\n",
    "\n",
    "import os\n",
    "import copy\n",
    "import numpy as np\n",
    "\n",
    "import pandas as pd\n",
    "import matplotlib.pyplot as plt\n",
    "from matplotlib.ticker import MultipleLocator, FormatStrFormatter, AutoMinorLocator\n",
    "from matplotlib.colors import to_hex\n",
    "from matplotlib.colors import ListedColormap\n",
    "import mplcursors\n",
    "\n",
    "from sklearn.decomposition import PCA\n",
    "from sklearn.manifold import TSNE\n",
    "\n",
    "from pathlib import Path\n",
    "\n",
    "import webbrowser\n",
    "\n",
    "warnings.filterwarnings(\"ignore\")\n",
    "%matplotlib inline"
   ]
  },
  {
   "cell_type": "code",
   "execution_count": 3,
   "metadata": {},
   "outputs": [
    {
     "data": {
      "application/javascript": [
       "IPython.OutputArea.prototype._should_scroll = function(lines) {\n",
       "   return false;\n",
       "}\n"
      ],
      "text/plain": [
       "<IPython.core.display.Javascript object>"
      ]
     },
     "metadata": {},
     "output_type": "display_data"
    }
   ],
   "source": [
    "%%javascript\n",
    "IPython.OutputArea.prototype._should_scroll = function(lines) {\n",
    "   return false;\n",
    "}"
   ]
  },
  {
   "cell_type": "code",
   "execution_count": null,
   "metadata": {},
   "outputs": [
    {
     "name": "stdout",
     "output_type": "stream",
     "text": [
      "207\r"
     ]
    }
   ],
   "source": [
    "ROOTDIR = Path()\n",
    "\n",
    "CIDdir = ROOTDIR/\"ProcessedData\"\n",
    "Listdir = ROOTDIR/\"Categories\"\n",
    "\n",
    "XES_DATA = get_Data(Listdir, mode='xes')\n",
    "XANES_DATA = get_Data(Listdir, mode='xanes')\n",
    "\n",
    "# CIDS = np.array(get_Property(XES_DATA, 'CID'))\n",
    "# compoundtypes = get_Property(XES_DATA, 'Type')\n",
    "# compoundclasses = get_Property(XES_DATA, 'Class')\n",
    "\n",
    "CIDS = np.array(get_Property(XES_DATA, 'CID', applyfilter=exclude_None_class))\n",
    "compoundtypes = get_Property(XES_DATA, 'Type', applyfilter=exclude_None_class)\n",
    "compoundclasses = get_Property(XES_DATA, 'Class', applyfilter=exclude_None_class)"
   ]
  },
  {
   "cell_type": "code",
   "execution_count": null,
   "metadata": {},
   "outputs": [],
   "source": [
    "transitions = get_Property(XANES_DATA, 'Transitions')"
   ]
  },
  {
   "cell_type": "code",
   "execution_count": null,
   "metadata": {},
   "outputs": [],
   "source": [
    "good, bad = 0, 0\n",
    "diff = []\n",
    "for trans in transitions:\n",
    "    x, y = trans\n",
    "    whiteline_E = x[np.argmax(y[:-5])]\n",
    "    max_E = whiteline_E + 15\n",
    "    num_above_threshold = np.sum(x > max_E)\n",
    "    \n",
    "    last_trans = x[0]\n",
    "    diff.append(max_E - last_trans)\n",
    "    \n",
    "    if num_above_threshold > 0:\n",
    "        good += 1\n",
    "    else:\n",
    "        bad += 1\n",
    "diff = np.array(diff)"
   ]
  },
  {
   "cell_type": "code",
   "execution_count": null,
   "metadata": {},
   "outputs": [],
   "source": [
    "print(f'{good} good vs {bad} bad')\n",
    "print(np.average(diff), ' +/- ', np.std(diff))"
   ]
  },
  {
   "cell_type": "code",
   "execution_count": null,
   "metadata": {},
   "outputs": [],
   "source": [
    "CIDS.shape"
   ]
  },
  {
   "cell_type": "markdown",
   "metadata": {},
   "source": [
    "# Visualization of Classification Distributions"
   ]
  },
  {
   "cell_type": "code",
   "execution_count": null,
   "metadata": {},
   "outputs": [],
   "source": [
    "categorizer = compoundclasses\n",
    "\n",
    "classnames = list(TYPECODES.keys())[:-1]\n",
    "bins = [np.sum(np.array(categorizer)==classname) for classname in classnames]\n",
    "    \n",
    "hist(bins, [c.replace('_', ' ') for c in classnames], label='Class', verbose=True)"
   ]
  },
  {
   "cell_type": "code",
   "execution_count": null,
   "metadata": {
    "scrolled": true
   },
   "outputs": [],
   "source": [
    "categorizer = compoundtypes\n",
    "\n",
    "classnames = np.unique(list(TYPECODES.values()))[:-1]\n",
    "bins = [np.sum(np.array(categorizer)==classname) for classname in classnames]\n",
    "\n",
    "hist(bins, classnames, label='Type', verbose=True)"
   ]
  },
  {
   "cell_type": "code",
   "execution_count": null,
   "metadata": {
    "scrolled": true
   },
   "outputs": [],
   "source": [
    "num = 0\n",
    "for i, Type in enumerate(compoundtypes):\n",
    "    if Type==6:\n",
    "        print(CIDS[i])\n",
    "        num += 1\n",
    "    if num == 10:\n",
    "        break"
   ]
  },
  {
   "cell_type": "code",
   "execution_count": null,
   "metadata": {},
   "outputs": [],
   "source": [
    "xes = np.array(get_Property(XES_DATA, 'Spectra', applyfilter=exclude_None_class))\n",
    "# xes = np.array(get_Property(XES_DATA, 'Spectra'))\n",
    "XESenergy = xes[0,0,:]\n",
    "XES = xes[:,1,:]\n",
    "\n",
    "XES_SCALING = np.max(XES)\n",
    "XES = XES / XES_SCALING"
   ]
  },
  {
   "cell_type": "code",
   "execution_count": null,
   "metadata": {},
   "outputs": [],
   "source": [
    "xanes = np.array(get_Property(XANES_DATA, 'Spectra', applyfilter=exclude_None_class))\n",
    "# xanes = np.array(get_Property(XANES_DATA, 'Spectra'))\n",
    "XANESenergy = xanes[0,0,:]\n",
    "XANES = xanes[:,1,:]\n",
    "\n",
    "XANES_SCALING = np.max(XANES)\n",
    "XANES = XANES / XANES_SCALING"
   ]
  },
  {
   "cell_type": "markdown",
   "metadata": {},
   "source": [
    "### Check calulcations"
   ]
  },
  {
   "cell_type": "code",
   "execution_count": null,
   "metadata": {},
   "outputs": [],
   "source": [
    "mycids = [11776, 13097, 8289]\n",
    "all_CIDS = np.array(get_Property(XES_DATA, 'CID'))\n",
    "for cid in mycids:\n",
    "    \n",
    "    i = np.where(all_CIDS==cid)[0][0]\n",
    "    j = np.where(CIDS==cid)[0][0]\n",
    "    \n",
    "#     trans = XES_DATA[i]['Transitions']\n",
    "#     trans = esnip(trans, XES[i], mode='xes', emin=2100)\n",
    "#     plot_spectrum_and_trans([XESenergy, XES[i]], trans, f'{CIDS[i]}', label='VtC-XES')\n",
    "    \n",
    "    trans = XANES_DATA[i]['Transitions']\n",
    "    trans = esnip(trans, XANES[j], energy=XANESenergy, mode='xanes')\n",
    "    plot_spectrum_and_trans([XANESenergy, XANES[j]], trans, f'{CIDS[j]}', label='XANES')"
   ]
  },
  {
   "cell_type": "markdown",
   "metadata": {},
   "source": [
    "# Theory and Experiment Comparison"
   ]
  },
  {
   "cell_type": "code",
   "execution_count": null,
   "metadata": {},
   "outputs": [],
   "source": [
    "df1 = pd.read_csv('Ph3P.csv')\n",
    "df2 = pd.read_csv('Ph3PO.csv')\n",
    "df3 = pd.read_csv('PhO3PO.csv')\n",
    "\n",
    "hc = 1.23984193e-6 #ev/m\n",
    "d = 6.5327e-10 #m\n",
    "def to_energy(two_theta):\n",
    "    return hc/(d*np.sin(two_theta*(np.pi/180)/2))\n",
    "\n",
    "\n",
    "def stack_plot(Spectrums, Labels, title=None,\n",
    "               verbose=True, label=None, peaknorm=True):\n",
    "    \n",
    "    n = len(Spectrums)\n",
    "    Colors=plt.cm.viridis(np.arange(n)/(n+1))\n",
    "    if n == 2:\n",
    "        Colors=['black', 'red']\n",
    "    fig, ax = plt.subplots(figsize=(10,8))\n",
    "\n",
    "    i = 0\n",
    "    for spectrum in Spectrums:\n",
    "        x, y = spectrum\n",
    "        if peaknorm:\n",
    "            y = y/np.max(y)\n",
    "        ax.plot(x, y, '-', color=Colors[i], linewidth=2, label=Labels[i])\n",
    "        i += 1\n",
    "\n",
    "    if title is not None:\n",
    "        plt.title(title, fontsize=20)\n",
    "    plt.xlabel('Energy (eV)', fontsize=18)\n",
    "    plt.tick_params(labelsize=16)\n",
    "\n",
    "    if verbose:\n",
    "        ax.xaxis.set_major_locator(MultipleLocator(5))\n",
    "        ax.xaxis.set_major_formatter(FormatStrFormatter('%d'))\n",
    "        ax.xaxis.set_minor_locator(MultipleLocator(1))\n",
    "        ax.tick_params(direction='in', width=1, length=5, which='minor')\n",
    "\n",
    "    ax.tick_params(direction='in', width=2, length=8, which='major')\n",
    "\n",
    "    plt.legend(fontsize=20)\n",
    "    \n",
    "    plt.show()\n",
    "\n",
    "    \n",
    "####################### spectrum 1\n",
    "x = to_energy(df1['2theta'].values)\n",
    "y = df1['I'].values\n",
    "y = y - np.min(y)\n",
    "y = y/np.max(y)\n",
    "emin, emax = 350, 800\n",
    "x2 = XESenergy[emin:emax]\n",
    "i = np.where(CIDS==mycids[0])[0][0]\n",
    "y2 = XES[i][emin:emax]\n",
    "e_shift = x2[np.argmax(y2)] - x[np.argmax(y)]\n",
    "stack_plot([[x, y],[x2-e_shift, y2]], ['Yasuda, 1984', 'NWChem'], title=\"$Ph_3P$\")\n",
    "\n",
    "####################### spectrum 2\n",
    "x = to_energy(df3['2theta'].values)\n",
    "y = df3['I'].values\n",
    "y = y - np.min(y)\n",
    "y = y/np.max(y)\n",
    "emin, emax = 410, 750\n",
    "x2 = XESenergy[emin:emax]\n",
    "i = np.where(CIDS==mycids[2])[0][0]\n",
    "y2 = XES[i][emin:emax]\n",
    "stack_plot([[x, y],[x2-e_shift, y2]], ['Yasuda, 1984', 'NWChem'], title=\"$PhO_3PO$\", verbose=True)"
   ]
  },
  {
   "cell_type": "markdown",
   "metadata": {},
   "source": [
    "# ML and Data Science section"
   ]
  },
  {
   "cell_type": "markdown",
   "metadata": {},
   "source": [
    "## All Spectra Together"
   ]
  },
  {
   "cell_type": "code",
   "execution_count": null,
   "metadata": {},
   "outputs": [],
   "source": [
    "def Spagetti_plot(energy, X, mode='XES', MINIMAX=[0,-1]):\n",
    "    \n",
    "    MIN, MAX = MINIMAX\n",
    "    \n",
    "    fig, ax = plt.subplots(figsize=(12,8))\n",
    "    \n",
    "    for x in X:\n",
    "        plt.plot(energy, x, '-', c='k', alpha=0.1)\n",
    "                \n",
    "    plt.title(f\"{mode} Spectra\", fontsize=30)\n",
    "    \n",
    "    plt.xlabel('Energy (eV)', fontsize=26)\n",
    "    plt.xticks(fontsize=20)\n",
    "    ax.tick_params(direction='in', width=2, length=8)\n",
    "    plt.yticks([])\n",
    "\n",
    "    plt.show()\n",
    "    \n",
    "Spagetti_plot(XESenergy, XES, mode='XES')\n",
    "Spagetti_plot(XANESenergy, XANES, mode='XANES')"
   ]
  },
  {
   "cell_type": "markdown",
   "metadata": {},
   "source": [
    "## Rainbow Spaghetti Plot: Color and Stack by Compound Type"
   ]
  },
  {
   "cell_type": "code",
   "execution_count": null,
   "metadata": {},
   "outputs": [],
   "source": [
    "Rainbow_spaghetti_plot_types_stack(plt.subplots(figsize=(8,15)),\n",
    "                                   XESenergy, XES, compoundclasses, CIDS, mode='VtC-XES', cmap=CMAP2);\n",
    "Rainbow_spaghetti_plot_types_stack(plt.subplots(figsize=(8,15)),\n",
    "                                   XANESenergy, XANES, compoundclasses, CIDS, mode='XANES', cmap=CMAP1);"
   ]
  },
  {
   "cell_type": "markdown",
   "metadata": {},
   "source": [
    "# ML Reduced Space: PCA and t-SNE"
   ]
  },
  {
   "cell_type": "code",
   "execution_count": null,
   "metadata": {},
   "outputs": [],
   "source": [
    "warnings.filterwarnings(\"ignore\")\n",
    "# pca\n",
    "pca1 = PCA(n_components=2)\n",
    "XES_PCA = pca1.fit_transform(XES)\n",
    "\n",
    "# pca\n",
    "pca2 = PCA(n_components=2)\n",
    "XANES_PCA = pca2.fit_transform(XANES)\n",
    "\n",
    "# tsne\n",
    "tsne = TSNE(n_components=2, perplexity=20, random_state=42)\n",
    "XES_TSNE = tsne.fit_transform(XES)\n",
    "\n",
    "# tsne\n",
    "tsne = TSNE(n_components=2, perplexity=20, random_state=42)\n",
    "XANES_TSNE = tsne.fit_transform(XANES)"
   ]
  },
  {
   "cell_type": "code",
   "execution_count": null,
   "metadata": {},
   "outputs": [],
   "source": [
    "def onselect(sel):\n",
    "    sel.annotation.set_text( \\\n",
    "    str(CIDS[sel.target.index])+','+str(compoundclasses[sel.target.index]))\n",
    "    webbrowser.open(f\"https://pubchem.ncbi.nlm.nih.gov/image/imgsrv.fcgi?cid={CIDS[sel.target.index]}&t=l\")      "
   ]
  },
  {
   "cell_type": "code",
   "execution_count": null,
   "metadata": {
    "scrolled": true
   },
   "outputs": [],
   "source": [
    "cmap = CMAP2\n",
    "mplcursors.cursor(plot_dim_red(plt.subplots(figsize=(5,5)),\n",
    "                               XES_PCA, compoundclasses, 'PCA', cmap=cmap)).connect(\"add\", onselect)\n",
    "mplcursors.cursor(plot_dim_red(plt.subplots(figsize=(5,5)),\n",
    "                               XES_TSNE,compoundclasses, 't-SNE', cmap=cmap)).connect(\"add\", onselect)\n",
    "mplcursors.cursor(plot_dim_red(plt.subplots(figsize=(5,5)),\n",
    "                               XANES_PCA, compoundclasses, 'PCA', cmap=cmap, mode='XANES')).connect(\"add\", onselect)\n",
    "mplcursors.cursor(plot_dim_red(plt.subplots(figsize=(5,5)),\n",
    "                               XANES_TSNE, compoundclasses, 't-SNE', cmap=cmap, mode='XANES')).connect(\"add\", onselect)"
   ]
  },
  {
   "cell_type": "markdown",
   "metadata": {},
   "source": [
    "## Spectra + Reduced Space Combined"
   ]
  },
  {
   "cell_type": "code",
   "execution_count": null,
   "metadata": {},
   "outputs": [],
   "source": [
    "# %matplotlib notebook"
   ]
  },
  {
   "cell_type": "code",
   "execution_count": null,
   "metadata": {
    "scrolled": true
   },
   "outputs": [],
   "source": [
    "linktopubchem = True\n",
    "\n",
    "oldlineprops = {}\n",
    "\n",
    "def highlight_spectra(sel):\n",
    "    sel.annotation.set_text( \\\n",
    "        str(CIDS[sel.target.index])+','+str(compoundclasses[sel.target.index]))\n",
    "    if oldlineprops:\n",
    "        spectra_lines[oldlineprops['index']].set_linewidth(oldlineprops['linewidth'])\n",
    "        spectra_lines[oldlineprops['index']].set_color(oldlineprops['color'])\n",
    "        spectra_lines[oldlineprops['index']].set_alpha(oldlineprops['alpha'])\n",
    "    oldlineprops['index'] = sel.target.index\n",
    "    oldlineprops['linewidth'] = spectra_lines[sel.target.index].get_lw()\n",
    "    oldlineprops['color'] = spectra_lines[sel.target.index].get_c()\n",
    "    oldlineprops['alpha'] = spectra_lines[sel.target.index].get_alpha()\n",
    "    spectra_lines[sel.target.index].set_linewidth(3)\n",
    "    spectra_lines[sel.target.index].set_color('k')\n",
    "    spectra_lines[sel.target.index].set_alpha(1)\n",
    "    if linktopubchem:\n",
    "        webbrowser.open(f\"https://pubchem.ncbi.nlm.nih.gov/image/imgsrv.fcgi?cid={CIDS[sel.target.index]}&t=l\")\n",
    "\n",
    "def unhighlight_spectra(sel):\n",
    "    spectra_lines[sel.target.index].set_linewidth(oldlineprops['linewidth'])\n",
    "    spectra_lines[sel.target.index].set_color(oldlineprops['color'])\n",
    "    spectra_lines[sel.target.index].set_alpha(oldlineprops['alpha'])\n",
    "        \n",
    "\n",
    "olddotprops = {}\n",
    "\n",
    "def highlight_dot(sel):\n",
    "    #sel.annotation.set_text(str(CIDS[sel.target.index])+' '+str(types[sel.target.index]))\n",
    "    if olddotprops:\n",
    "        redspace_dots.set_edgecolors(olddotprops['colors'])\n",
    "    olddotprops['colors'] = copy.deepcopy(redspace_dots.get_edgecolors())\n",
    "    newdotedgecolors = copy.deepcopy(olddotprops['colors'])\n",
    "    #webbroswer.open(str(len(olddotedgecolors)))\n",
    "    #webbrowser.open(repr(sel.artist.get_label().split(',')[0]))\n",
    "    index = CIDS.index(int(sel.artist.get_label().split(',')[0]))\n",
    "    newdotedgecolors[index] = [1,0,0,1]\n",
    "    redspace_dots.set_edgecolors(newdotedgecolors)\n",
    "    if linktopubchem:\n",
    "        webbrowser.open(f\"https://pubchem.ncbi.nlm.nih.gov/image/imgsrv.fcgi?cid={CIDS[index]}&t=l\")\n",
    "\n",
    "\n",
    "def unhighlight_dot(sel):\n",
    "    webbrowser.open('test')\n",
    "    redspace_dots.set_edgecolors(olddotprops['colors'])\n",
    "    \n",
    "spectra_lines = Rainbow_spaghetti_plot_types_stack(plt.subplots(figsize=(8,20)), XANESenergy, XANES,\n",
    "                                                   compoundclasses, CIDS, mode='XANES', cmap=CMAP2)\n",
    "redspace_dots = plot_dim_red(plt.subplots(figsize=(5,5)), XANES_TSNE,\n",
    "                             compoundclasses, 't-SNE', mode='XANES', cmap=CMAP2)\n",
    "\n",
    "dotcursor = mplcursors.cursor(redspace_dots)\n",
    "dotcursor.connect(\"add\", highlight_spectra)\n",
    "# dotcursor.connect(\"remove\", unhighlight_spectra)\n",
    "\n",
    "linecursor = mplcursors.cursor(spectra_lines, highlight=True,\n",
    "                  highlight_kwargs={'color':'pink', 'alpha':1, 'linewidth':3, 'markeredgewidth':0})\n",
    "linecursor.connect(\"add\", highlight_dot)\n",
    "#linecursor.connect(\"remove\", unhighlight_dot)"
   ]
  },
  {
   "cell_type": "code",
   "execution_count": null,
   "metadata": {},
   "outputs": [],
   "source": [
    "# Uncomment and run the line below to stop it linking to PubChem when you click on the figures\n",
    "# linktopubchem = True"
   ]
  },
  {
   "cell_type": "code",
   "execution_count": null,
   "metadata": {},
   "outputs": [],
   "source": [
    "%matplotlib notebook"
   ]
  },
  {
   "cell_type": "code",
   "execution_count": null,
   "metadata": {},
   "outputs": [],
   "source": [
    "spectra_lines = Rainbow_spaghetti_plot_types_stack(plt.subplots(figsize=(8,15)), XESenergy, XES,\n",
    "                                                   compoundclasses, CIDS, mode='XES', cmap=CMAP2)\n",
    "redspace_dots = plot_dim_red(plt.subplots(figsize=(5,5)), XES_TSNE,\n",
    "                             compoundclasses, 't-SNE', mode='XES', cmap=CMAP2)\n",
    "\n",
    "dotcursor = mplcursors.cursor(redspace_dots)\n",
    "dotcursor.connect(\"add\", highlight_spectra)\n",
    "#dotcursor.connect(\"remove\", unhighlight_spectra)\n",
    "\n",
    "linecursor = mplcursors.cursor(spectra_lines, highlight=True,\n",
    "                  highlight_kwargs={'color':'pink', 'alpha':1, 'linewidth':3, 'markeredgewidth':0})\n",
    "linecursor.connect(\"add\", highlight_dot)"
   ]
  },
  {
   "cell_type": "code",
   "execution_count": null,
   "metadata": {},
   "outputs": [],
   "source": []
  }
 ],
 "metadata": {
  "kernelspec": {
   "display_name": "Python 3",
   "language": "python",
   "name": "python3"
  },
  "language_info": {
   "codemirror_mode": {
    "name": "ipython",
    "version": 3
   },
   "file_extension": ".py",
   "mimetype": "text/x-python",
   "name": "python",
   "nbconvert_exporter": "python",
   "pygments_lexer": "ipython3",
   "version": "3.7.3"
  }
 },
 "nbformat": 4,
 "nbformat_minor": 2
}
