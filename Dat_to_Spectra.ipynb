{
 "cells": [
  {
   "cell_type": "code",
   "execution_count": 1,
   "metadata": {},
   "outputs": [],
   "source": [
    "# Author: Samantha Tetef\n",
    "# Created: 12.11.20\n",
    "# Title: Dat_to_Spectra"
   ]
  },
  {
   "cell_type": "code",
   "execution_count": 2,
   "metadata": {},
   "outputs": [],
   "source": [
    "import numpy as np\n",
    "import os\n",
    "import shutil\n",
    "import subprocess\n",
    "import timeit"
   ]
  },
  {
   "cell_type": "code",
   "execution_count": 14,
   "metadata": {},
   "outputs": [],
   "source": [
    "ROOTDIR = os.getcwd()\n",
    "\n",
    "# cluster = 'Cascade'\n",
    "cluster = 'Hyak'\n",
    "\n",
    "XESdir = f\"{ROOTDIR}/{cluster}/XES/\"\n",
    "XANESdir = f\"{ROOTDIR}/{cluster}/XANES/\"\n",
    "\n",
    "XES_list = [f.replace('.dat','') for f in os.listdir(XESdir) if f.endswith('.dat')]\n",
    "XANES_list = [f.replace('.dat','') for f in os.listdir(XANESdir) if f.endswith('.dat')]\n",
    "\n",
    "if len(XES_list) != len(XANES_list):\n",
    "    print(\"There are molecules without both XES and XANES calculations!\")"
   ]
  },
  {
   "cell_type": "code",
   "execution_count": 15,
   "metadata": {},
   "outputs": [
    {
     "name": "stdout",
     "output_type": "stream",
     "text": [
      "['105', '106', '150', '186', '208', '216', '278', '339', '378', '466', '529', '546', '572', '587', '59', '654', '668', '669', '724', '99058', '99241', '99791', '99928']\n"
     ]
    }
   ],
   "source": [
    "print(XES_list)\n",
    "# print(XANES_list)"
   ]
  },
  {
   "cell_type": "code",
   "execution_count": 5,
   "metadata": {},
   "outputs": [],
   "source": [
    "def makeDirectories(c):\n",
    "    os.chdir('ProcessedData/')\n",
    "    os.makedirs(c)\n",
    "    os.chdir(f'{c}')\n",
    "    os.makedirs('XANES')\n",
    "    os.makedirs('XES')\n",
    "    os.chdir(ROOTDIR)"
   ]
  },
  {
   "cell_type": "code",
   "execution_count": 6,
   "metadata": {},
   "outputs": [],
   "source": [
    "def processXES(process_list):\n",
    "    i = 1\n",
    "    for c in process_list:\n",
    "        if os.path.exists(f'{XESdir}{c}.dat'):\n",
    "            shutil.copyfile(f'{XESdir}{c}.dat', f'{c}.dat')\n",
    "        else:\n",
    "            print(f\"{c}.dat does not exist in {XESdir}\")\n",
    "        \n",
    "        subprocess.call(['python', 'tddftoutputparser.py', '-f', f'{c}.dat',\n",
    "                             '-l', '1.8', '-g', '1.5', '-emin', '2120', '-emax', '2180']) # TODO Eshift\n",
    "                    \n",
    "        if os.path.exists(f'{c}.processedspectrum'):\n",
    "            if os.path.exists(f'ProcessedData/{c}/XES/{c}.processedspectrum'):\n",
    "                os.remove(f'ProcessedData/{c}/XES/{c}.processedspectrum')\n",
    "            shutil.move(f'{c}.processedspectrum', f'ProcessedData/{c}/XES/{c}.processedspectrum')\n",
    "        else:\n",
    "            print(f\"\\t ! No processed spectrum file for CID {c}\")\n",
    "\n",
    "        if os.path.exists(f'ProcessedData/{c}/XES/{c}.dat'):\n",
    "            os.remove(f'ProcessedData/{c}/XES/{c}.dat')\n",
    "        \n",
    "        shutil.move(f'{c}.dat', f'ProcessedData/{c}/XES/{c}.dat')\n",
    "                    \n",
    "        print(f'{i}\\r', end=\"\")\n",
    "        i += 1"
   ]
  },
  {
   "cell_type": "code",
   "execution_count": 7,
   "metadata": {},
   "outputs": [],
   "source": [
    "def processXANES(process_list):\n",
    "    i = 1\n",
    "    for c in process_list:\n",
    "        if os.path.exists(f'{XANESdir}{c}.dat'):\n",
    "            shutil.copyfile(f'{XANESdir}{c}.dat', f'{c}.dat')\n",
    "        else:\n",
    "            print(f\"{c}.dat does not exist in {XANESdir}\")\n",
    "        \n",
    "        subprocess.call(['python', 'tddftoutputparser.py', '-f', f'{c}.dat', '-lb'])\n",
    "                    \n",
    "        if os.path.exists(f'{c}.processedspectrum'):\n",
    "            if os.path.exists(f'ProcessedData/{c}/XANES/{c}.processedspectrum'):\n",
    "                os.remove(f'ProcessedData/{c}/XANES/{c}.processedspectrum')\n",
    "            shutil.move(f'{c}.processedspectrum', f'ProcessedData/{c}/XANES/{c}.processedspectrum')\n",
    "        else:\n",
    "            print(f\"\\t ! No processed spectrum file for CID {c}\")\n",
    "\n",
    "        if os.path.exists(f'ProcessedData/{c}/XANES/{c}.dat'):\n",
    "            os.remove(f'ProcessedData/{c}/XANES/{c}.dat')\n",
    "        \n",
    "        shutil.move(f'{c}.dat', f'ProcessedData/{c}/XANES/{c}.dat')\n",
    "                    \n",
    "        print(f'{i}\\r', end=\"\")\n",
    "        i += 1  "
   ]
  },
  {
   "cell_type": "code",
   "execution_count": 8,
   "metadata": {},
   "outputs": [
    {
     "name": "stdout",
     "output_type": "stream",
     "text": [
      "Runtime: 0.9466699566666666 min\n"
     ]
    }
   ],
   "source": [
    "start = timeit.default_timer()\n",
    "\n",
    "processXES(XES_list)\n",
    "\n",
    "stop = timeit.default_timer()\n",
    "print(f\"Runtime: {(stop - start)/60} min\")"
   ]
  },
  {
   "cell_type": "code",
   "execution_count": 9,
   "metadata": {},
   "outputs": [
    {
     "name": "stdout",
     "output_type": "stream",
     "text": [
      "Runtime: 0.9444435133333332 min\n"
     ]
    }
   ],
   "source": [
    "start = timeit.default_timer()\n",
    "\n",
    "processXANES(XANES_list)\n",
    "\n",
    "stop = timeit.default_timer()\n",
    "print(f\"Runtime: {(stop - start)/60} min\")"
   ]
  },
  {
   "cell_type": "code",
   "execution_count": null,
   "metadata": {},
   "outputs": [],
   "source": []
  }
 ],
 "metadata": {
  "kernelspec": {
   "display_name": "Python 3",
   "language": "python",
   "name": "python3"
  },
  "language_info": {
   "codemirror_mode": {
    "name": "ipython",
    "version": 3
   },
   "file_extension": ".py",
   "mimetype": "text/x-python",
   "name": "python",
   "nbconvert_exporter": "python",
   "pygments_lexer": "ipython3",
   "version": "3.7.3"
  }
 },
 "nbformat": 4,
 "nbformat_minor": 2
}
