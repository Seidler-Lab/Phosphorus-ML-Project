{
 "cells": [
  {
   "cell_type": "code",
   "execution_count": 1,
   "metadata": {},
   "outputs": [],
   "source": [
    "# Author: Samantha Tetef\n",
    "# Created: 12.11.20\n",
    "# Title: Dat_to_Spectra"
   ]
  },
  {
   "cell_type": "code",
   "execution_count": 2,
   "metadata": {},
   "outputs": [],
   "source": [
    "import numpy as np\n",
    "import os\n",
    "import shutil\n",
    "import subprocess\n",
    "import timeit"
   ]
  },
  {
   "cell_type": "markdown",
   "metadata": {},
   "source": [
    "# This notebook turns .dat files into .processedspectrum files\n",
    "\n",
    "All .dat files must be in the ProcessedData/ directory, named as CID_xes.dat or CID_xanes.dat"
   ]
  },
  {
   "cell_type": "code",
   "execution_count": 3,
   "metadata": {},
   "outputs": [],
   "source": [
    "ROOTDIR = os.getcwd()\n",
    "\n",
    "direct = f\"{ROOTDIR}/ProcessedData/\"\n",
    "\n",
    "XES_list = [f.replace('_xes.dat','') for f in os.listdir(direct) if f.endswith('_xes.dat')]\n",
    "XANES_list = [f.replace('_xanes.dat','') for f in os.listdir(direct) if f.endswith('_xanes.dat')]\n",
    "\n",
    "if len(XES_list) != len(XANES_list):\n",
    "    print(\"There are molecules without both XES and XANES calculations!\")"
   ]
  },
  {
   "cell_type": "code",
   "execution_count": 4,
   "metadata": {},
   "outputs": [
    {
     "name": "stdout",
     "output_type": "stream",
     "text": [
      "665\n",
      "665\n"
     ]
    }
   ],
   "source": [
    "print(len(XES_list))\n",
    "print(len(XANES_list))"
   ]
  },
  {
   "cell_type": "code",
   "execution_count": 5,
   "metadata": {},
   "outputs": [],
   "source": [
    "def process_spectra(process_list, mode='xes', redo = False):\n",
    "    \n",
    "#     os.chdir('ProcessedData/')\n",
    "    os.chdir(f\"{ROOTDIR}/ProcessedData/\")\n",
    "    \n",
    "    i = 1\n",
    "    for c in process_list:\n",
    "        \n",
    "        # we don't want to proccess everything\n",
    "        process = False\n",
    "        \n",
    "        # if .dat file exists\n",
    "        if os.path.exists(f'{c}_{mode}.dat'):\n",
    "                    \n",
    "            if os.path.exists(f'{c}_{mode}.processedspectrum'):\n",
    "                if redo:\n",
    "                    # already processed but we're doing it again\n",
    "                    os.remove(f'{c}_{mode}.processedspectrum')\n",
    "                    process= True\n",
    "                else:\n",
    "                    # already processed but we don't want to redo broadening\n",
    "                    pass\n",
    "            else:\n",
    "                # new .dat file\n",
    "                process = True\n",
    "             \n",
    "            if process:\n",
    "\n",
    "                if mode == 'xes':\n",
    "                    subprocess.call(['python', '../tddftoutputparser.py', '-f', f'{c}_{mode}.dat', '-eshift', '19.',\n",
    "                                     '-emin', '2130', '-emax', '2170',\n",
    "                                     '-l', '0.5', '-g', '1.5', '-mode', f'{mode}']) \n",
    "                if mode == 'xanes':\n",
    "                    subprocess.call(['python', '../tddftoutputparser.py', '-f', f'{c}_{mode}.dat', '-eshift=-50.',\n",
    "                                     '-lb', '-mode', f'{mode}'])\n",
    "\n",
    "                print(f'{i}\\r', end=\"\")\n",
    "                i += 1\n",
    "        \n",
    "        else:\n",
    "            print(f\"{c}_{mode}.dat does not exist!\")\n",
    "   \n",
    "    os.chdir(ROOTDIR)"
   ]
  },
  {
   "cell_type": "code",
   "execution_count": 6,
   "metadata": {},
   "outputs": [
    {
     "name": "stdout",
     "output_type": "stream",
     "text": [
      "Runtime: 0.6489862016666659 min\n"
     ]
    }
   ],
   "source": [
    "start = timeit.default_timer()\n",
    "\n",
    "process_spectra(XES_list, mode='xes', redo=False)\n",
    "\n",
    "stop = timeit.default_timer()\n",
    "print(f\"Runtime: {(stop - start)/60} min\")"
   ]
  },
  {
   "cell_type": "code",
   "execution_count": 7,
   "metadata": {},
   "outputs": [
    {
     "name": "stdout",
     "output_type": "stream",
     "text": [
      "Runtime: 0.6804095050000001 min\n"
     ]
    }
   ],
   "source": [
    "start = timeit.default_timer()\n",
    "\n",
    "process_spectra(XANES_list, mode='xanes', redo=False)\n",
    "\n",
    "stop = timeit.default_timer()\n",
    "print(f\"Runtime: {(stop - start)/60} min\")"
   ]
  },
  {
   "cell_type": "code",
   "execution_count": null,
   "metadata": {},
   "outputs": [],
   "source": []
  }
 ],
 "metadata": {
  "kernelspec": {
   "display_name": "Python 3",
   "language": "python",
   "name": "python3"
  },
  "language_info": {
   "codemirror_mode": {
    "name": "ipython",
    "version": 3
   },
   "file_extension": ".py",
   "mimetype": "text/x-python",
   "name": "python",
   "nbconvert_exporter": "python",
   "pygments_lexer": "ipython3",
   "version": "3.7.3"
  }
 },
 "nbformat": 4,
 "nbformat_minor": 2
}
